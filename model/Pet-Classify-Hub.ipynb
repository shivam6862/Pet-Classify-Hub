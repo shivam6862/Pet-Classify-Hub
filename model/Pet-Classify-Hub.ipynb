{
 "cells": [
  {
   "cell_type": "markdown",
   "metadata": {},
   "source": [
    "<h2 style=\"color:#000000; border:2px solid #6D7E86; text-align:center; border-radius:8px; background-color:rgb(199,239,0,0.5);text-transform:uppercase;padding:0.7rem\">🚀Upvote if you find it useful!</h2>\n"
   ]
  },
  {
   "cell_type": "markdown",
   "metadata": {},
   "source": [
    "## Pet Classify Hub\n"
   ]
  },
  {
   "cell_type": "markdown",
   "metadata": {},
   "source": [
    "### Importing Essential Packages 📦🔍\n"
   ]
  },
  {
   "cell_type": "code",
   "execution_count": 88,
   "metadata": {},
   "outputs": [],
   "source": [
    "import numpy as np\n",
    "import pandas as pd\n",
    "import matplotlib.pyplot as plt\n",
    "import seaborn as sns\n",
    "import tensorflow as tf\n",
    "from tensorflow import keras\n",
    "from sklearn.model_selection import train_test_split\n",
    "from sklearn.metrics import confusion_matrix\n",
    "import os\n",
    "import cv2"
   ]
  },
  {
   "cell_type": "markdown",
   "metadata": {},
   "source": [
    "### Importing Images 📦📸\n"
   ]
  },
  {
   "cell_type": "code",
   "execution_count": 89,
   "metadata": {},
   "outputs": [
    {
     "name": "stdout",
     "output_type": "stream",
     "text": [
      "d:\\Machine-learning\\Pet-Classify-Hub\\data\\dogs-vs-cats\\train\n",
      "d:\\Machine-learning\\Pet-Classify-Hub\\data\\dogs-vs-cats\\test\n"
     ]
    }
   ],
   "source": [
    "folder_path_train = \"..\\data\\dogs-vs-cats\\\\train\"\n",
    "current_directory = os.getcwd()\n",
    "full_path_train = os.path.join(current_directory, folder_path_train)\n",
    "full_path_train = os.path.normpath(full_path_train)\n",
    "print(full_path_train)\n",
    "\n",
    "folder_path_test = \"..\\data\\dogs-vs-cats\\\\test\"\n",
    "current_directory = os.getcwd()\n",
    "full_path_test = os.path.join(current_directory, folder_path_test)\n",
    "full_path_test = os.path.normpath(full_path_test)\n",
    "print(full_path_test)"
   ]
  },
  {
   "cell_type": "markdown",
   "metadata": {},
   "source": [
    "#### Importing all images\n"
   ]
  },
  {
   "cell_type": "code",
   "execution_count": 90,
   "metadata": {},
   "outputs": [
    {
     "name": "stdout",
     "output_type": "stream",
     "text": [
      "0\n",
      "100\n",
      "200\n",
      "300\n",
      "400\n",
      "500\n",
      "600\n",
      "700\n",
      "800\n",
      "900\n",
      "1000\n",
      "Shape of images array: 1000\n",
      "Shape of labels array: ['cat', 'cat', 'cat', 'cat', 'cat', 'cat', 'cat', 'cat', 'cat', 'cat']\n"
     ]
    }
   ],
   "source": [
    "train_images_df = []\n",
    "train_labels_df = []\n",
    "# plt.figure(figsize=(16, 9))\n",
    "for filename in os.listdir(full_path_train):\n",
    "    if filename.endswith(\".jpg\"):\n",
    "        image_path = os.path.join(full_path_train, filename)\n",
    "        if len(train_images_df) % 100 == 0:\n",
    "            print(len(train_images_df))\n",
    "        img = cv2.imread(image_path)\n",
    "        # plt.subplot(5, 6, len(images) + 1)\n",
    "        # plt.imshow(img)\n",
    "        if len(train_images_df) == 1000:\n",
    "            break\n",
    "        train_images_df.append(img)\n",
    "        train_labels_df.append(filename.split(\".\")[0])\n",
    "print(\"Shape of images array:\", len(train_images_df))\n",
    "print(\"Shape of labels array:\", train_labels_df[:10])\n",
    "# plt.imshow(img)"
   ]
  },
  {
   "cell_type": "markdown",
   "metadata": {},
   "source": [
    "#### Imported only 1000 images for train\n"
   ]
  },
  {
   "cell_type": "code",
   "execution_count": 91,
   "metadata": {},
   "outputs": [
    {
     "name": "stdout",
     "output_type": "stream",
     "text": [
      "Number of cat images: 1250\n",
      "Number of dog images: 1250\n",
      "Shape of images array: 2500\n",
      "Shape of labels array: 2500\n"
     ]
    }
   ],
   "source": [
    "train_images_df = []\n",
    "train_labels_df = []\n",
    "\n",
    "num_dogs = 0\n",
    "num_cats = 0\n",
    "target_images = 2500\n",
    "\n",
    "for filename in os.listdir(full_path_train):\n",
    "    if filename.endswith(\".jpg\"):\n",
    "        image_path = os.path.join(full_path_train, filename)\n",
    "        img = cv2.imread(image_path)\n",
    "\n",
    "        label = filename.split(\".\")[0]\n",
    "        if label == \"cat\" and num_cats < target_images / 2:\n",
    "            train_images_df.append(img)\n",
    "            train_labels_df.append(label)\n",
    "            num_cats += 1\n",
    "        elif label == \"dog\" and num_dogs < target_images / 2:\n",
    "            train_images_df.append(img)\n",
    "            train_labels_df.append(label)\n",
    "            num_dogs += 1\n",
    "\n",
    "        # Break if we have enough images\n",
    "        if num_cats + num_dogs == target_images:\n",
    "            break\n",
    "\n",
    "print(\"Number of cat images:\", num_cats)\n",
    "print(\"Number of dog images:\", num_dogs)\n",
    "print(\"Shape of images array:\", len(train_images_df))\n",
    "print(\"Shape of labels array:\", len(train_labels_df))"
   ]
  },
  {
   "cell_type": "code",
   "execution_count": 92,
   "metadata": {},
   "outputs": [
    {
     "name": "stdout",
     "output_type": "stream",
     "text": [
      "['cat', 'cat', 'cat', 'cat', 'cat', 'cat', 'cat', 'cat', 'cat', 'cat']\n",
      "['dog', 'dog', 'dog', 'dog', 'dog', 'dog', 'dog', 'dog', 'dog', 'dog']\n"
     ]
    }
   ],
   "source": [
    "print(train_labels_df[0:10])\n",
    "print(train_labels_df[2490:])"
   ]
  },
  {
   "cell_type": "code",
   "execution_count": 93,
   "metadata": {},
   "outputs": [],
   "source": [
    "# plt.figure(figsize=(40, 100))\n",
    "# for i, img in enumerate(train_images):\n",
    "#     plt.subplot(50, 20, i + 1)\n",
    "#     plt.imshow(cv2.cvtColor(img, cv2.COLOR_BGR2RGB))\n",
    "#     plt.axis('off')\n",
    "\n",
    "# plt.show()"
   ]
  },
  {
   "cell_type": "markdown",
   "metadata": {},
   "source": [
    "#### Imported only 250 images for test\n"
   ]
  },
  {
   "cell_type": "code",
   "execution_count": 94,
   "metadata": {},
   "outputs": [
    {
     "name": "stdout",
     "output_type": "stream",
     "text": [
      "0"
     ]
    },
    {
     "name": "stdout",
     "output_type": "stream",
     "text": [
      "\n",
      "100\n",
      "200\n",
      "Shape of images array: 250\n"
     ]
    }
   ],
   "source": [
    "predication_images = []\n",
    "for filename in os.listdir(full_path_test):\n",
    "    if filename.endswith(\".jpg\"):\n",
    "        image_path = os.path.join(full_path_test, filename)\n",
    "        if len(predication_images) % 100 == 0:\n",
    "            print(len(predication_images))\n",
    "        img = cv2.imread(image_path)\n",
    "        if len(predication_images) == 250:\n",
    "            break\n",
    "        predication_images.append(img)\n",
    "print(\"Shape of images array:\", len(predication_images))"
   ]
  },
  {
   "cell_type": "code",
   "execution_count": 95,
   "metadata": {},
   "outputs": [],
   "source": [
    "# plt.figure(figsize=(25, 50))\n",
    "# for i, img in enumerate(predication_images):\n",
    "#     plt.subplot(25, 10, i + 1)\n",
    "#     plt.imshow(cv2.cvtColor(img, cv2.COLOR_BGR2RGB))\n",
    "#     plt.axis('off')\n",
    "\n",
    "# plt.show()"
   ]
  },
  {
   "cell_type": "markdown",
   "metadata": {},
   "source": [
    "#### sample Submission pattern\n"
   ]
  },
  {
   "cell_type": "code",
   "execution_count": 96,
   "metadata": {},
   "outputs": [
    {
     "data": {
      "text/html": [
       "<div>\n",
       "<style scoped>\n",
       "    .dataframe tbody tr th:only-of-type {\n",
       "        vertical-align: middle;\n",
       "    }\n",
       "\n",
       "    .dataframe tbody tr th {\n",
       "        vertical-align: top;\n",
       "    }\n",
       "\n",
       "    .dataframe thead th {\n",
       "        text-align: right;\n",
       "    }\n",
       "</style>\n",
       "<table border=\"1\" class=\"dataframe\">\n",
       "  <thead>\n",
       "    <tr style=\"text-align: right;\">\n",
       "      <th></th>\n",
       "      <th>id</th>\n",
       "      <th>label</th>\n",
       "    </tr>\n",
       "  </thead>\n",
       "  <tbody>\n",
       "    <tr>\n",
       "      <th>0</th>\n",
       "      <td>1</td>\n",
       "      <td>0</td>\n",
       "    </tr>\n",
       "    <tr>\n",
       "      <th>1</th>\n",
       "      <td>2</td>\n",
       "      <td>0</td>\n",
       "    </tr>\n",
       "    <tr>\n",
       "      <th>2</th>\n",
       "      <td>3</td>\n",
       "      <td>0</td>\n",
       "    </tr>\n",
       "    <tr>\n",
       "      <th>3</th>\n",
       "      <td>4</td>\n",
       "      <td>0</td>\n",
       "    </tr>\n",
       "    <tr>\n",
       "      <th>4</th>\n",
       "      <td>5</td>\n",
       "      <td>0</td>\n",
       "    </tr>\n",
       "    <tr>\n",
       "      <th>...</th>\n",
       "      <td>...</td>\n",
       "      <td>...</td>\n",
       "    </tr>\n",
       "    <tr>\n",
       "      <th>245</th>\n",
       "      <td>246</td>\n",
       "      <td>0</td>\n",
       "    </tr>\n",
       "    <tr>\n",
       "      <th>246</th>\n",
       "      <td>247</td>\n",
       "      <td>0</td>\n",
       "    </tr>\n",
       "    <tr>\n",
       "      <th>247</th>\n",
       "      <td>248</td>\n",
       "      <td>0</td>\n",
       "    </tr>\n",
       "    <tr>\n",
       "      <th>248</th>\n",
       "      <td>249</td>\n",
       "      <td>0</td>\n",
       "    </tr>\n",
       "    <tr>\n",
       "      <th>249</th>\n",
       "      <td>250</td>\n",
       "      <td>0</td>\n",
       "    </tr>\n",
       "  </tbody>\n",
       "</table>\n",
       "<p>250 rows × 2 columns</p>\n",
       "</div>"
      ],
      "text/plain": [
       "      id  label\n",
       "0      1      0\n",
       "1      2      0\n",
       "2      3      0\n",
       "3      4      0\n",
       "4      5      0\n",
       "..   ...    ...\n",
       "245  246      0\n",
       "246  247      0\n",
       "247  248      0\n",
       "248  249      0\n",
       "249  250      0\n",
       "\n",
       "[250 rows x 2 columns]"
      ]
     },
     "execution_count": 96,
     "metadata": {},
     "output_type": "execute_result"
    }
   ],
   "source": [
    "sample_submission = pd.read_csv(\n",
    "    '../data/dogs-vs-cats/sampleSubmission.csv').head(250)\n",
    "sample_submission"
   ]
  },
  {
   "cell_type": "markdown",
   "metadata": {},
   "source": [
    "### Building and Training Models 🏗️🤖\n"
   ]
  },
  {
   "cell_type": "code",
   "execution_count": 97,
   "metadata": {},
   "outputs": [
    {
     "name": "stdout",
     "output_type": "stream",
     "text": [
      "[0 0 0 0 0 0 0 0 0 0]\n",
      "[1 1 1 1 1 1 1 1 1 1]\n"
     ]
    }
   ],
   "source": [
    "train_labels_df = np.array(train_labels_df)\n",
    "train_labels_df[train_labels_df == 'cat'] = 0\n",
    "train_labels_df[train_labels_df == 'dog'] = 1\n",
    "train_labels_df = train_labels_df.astype(np.int32)\n",
    "print(train_labels_df[0:10])\n",
    "print(train_labels_df[2490:])"
   ]
  },
  {
   "cell_type": "code",
   "execution_count": 98,
   "metadata": {},
   "outputs": [],
   "source": [
    "image_size_pixels = 120"
   ]
  },
  {
   "cell_type": "code",
   "execution_count": 99,
   "metadata": {},
   "outputs": [],
   "source": [
    "train_images_df = [cv2.resize(img, (image_size_pixels, image_size_pixels)) for img in train_images_df]\n",
    "predication_images = [cv2.resize(img, (image_size_pixels, image_size_pixels))\n",
    "                      for img in predication_images]"
   ]
  },
  {
   "cell_type": "code",
   "execution_count": 100,
   "metadata": {},
   "outputs": [],
   "source": [
    "train_images_df = np.array(train_images_df)\n",
    "train_images_df = train_images_df /(image_size_pixels-1)\n",
    "predication_images = np.array(predication_images)\n",
    "predication_images = predication_images / (image_size_pixels-1)"
   ]
  },
  {
   "cell_type": "code",
   "execution_count": 101,
   "metadata": {},
   "outputs": [
    {
     "data": {
      "text/plain": [
       "(2500, 120, 120, 3)"
      ]
     },
     "execution_count": 101,
     "metadata": {},
     "output_type": "execute_result"
    }
   ],
   "source": [
    "train_images_df.shape"
   ]
  },
  {
   "cell_type": "code",
   "execution_count": 102,
   "metadata": {},
   "outputs": [],
   "source": [
    "x_train, x_test, y_train, y_test = train_test_split(\n",
    "    train_images_df, train_labels_df, test_size=0.2, random_state=42)"
   ]
  },
  {
   "cell_type": "code",
   "execution_count": 103,
   "metadata": {},
   "outputs": [
    {
     "data": {
      "text/plain": [
       "(500, 120, 120, 3)"
      ]
     },
     "execution_count": 103,
     "metadata": {},
     "output_type": "execute_result"
    }
   ],
   "source": [
    "x_test.shape"
   ]
  },
  {
   "cell_type": "code",
   "execution_count": 104,
   "metadata": {},
   "outputs": [
    {
     "data": {
      "text/plain": [
       "(2000, 120, 120, 3)"
      ]
     },
     "execution_count": 104,
     "metadata": {},
     "output_type": "execute_result"
    }
   ],
   "source": [
    "x_train.shape"
   ]
  },
  {
   "cell_type": "markdown",
   "metadata": {},
   "source": [
    "#### Convolutional Neural Network (CNN) 🌐🔍\n"
   ]
  },
  {
   "cell_type": "code",
   "execution_count": 72,
   "metadata": {},
   "outputs": [],
   "source": [
    "cnn_model = keras.Sequential([\n",
    "    keras.layers.Conv2D(filters=32, kernel_size=3,\n",
    "                        input_shape=(image_size_pixels, image_size_pixels, 3), activation='relu'),\n",
    "    keras.layers.MaxPooling2D(pool_size=2),\n",
    "    keras.layers.Conv2D(filters=64, kernel_size=3, activation='relu'),\n",
    "    keras.layers.MaxPooling2D(pool_size=2),\n",
    "    keras.layers.Conv2D(filters=128, kernel_size=3, activation='relu'),\n",
    "    keras.layers.MaxPooling2D(pool_size=2),\n",
    "    keras.layers.Flatten(),\n",
    "    keras.layers.Dense(64, activation='relu'),\n",
    "    keras.layers.Dense(1, activation='sigmoid')\n",
    "])"
   ]
  },
  {
   "cell_type": "code",
   "execution_count": 73,
   "metadata": {},
   "outputs": [
    {
     "name": "stdout",
     "output_type": "stream",
     "text": [
      "Model: \"sequential_4\"\n",
      "_________________________________________________________________\n",
      " Layer (type)                Output Shape              Param #   \n",
      "=================================================================\n",
      " conv2d_11 (Conv2D)          (None, 118, 118, 32)      896       \n",
      "                                                                 \n",
      " max_pooling2d_11 (MaxPoolin  (None, 59, 59, 32)       0         \n",
      " g2D)                                                            \n",
      "                                                                 \n",
      " conv2d_12 (Conv2D)          (None, 57, 57, 64)        18496     \n",
      "                                                                 \n",
      " max_pooling2d_12 (MaxPoolin  (None, 28, 28, 64)       0         \n",
      " g2D)                                                            \n",
      "                                                                 \n",
      " conv2d_13 (Conv2D)          (None, 26, 26, 128)       73856     \n",
      "                                                                 \n",
      " max_pooling2d_13 (MaxPoolin  (None, 13, 13, 128)      0         \n",
      " g2D)                                                            \n",
      "                                                                 \n",
      " flatten_4 (Flatten)         (None, 21632)             0         \n",
      "                                                                 \n",
      " dense_8 (Dense)             (None, 64)                1384512   \n",
      "                                                                 \n",
      " dense_9 (Dense)             (None, 1)                 65        \n",
      "                                                                 \n",
      "=================================================================\n",
      "Total params: 1,477,825\n",
      "Trainable params: 1,477,825\n",
      "Non-trainable params: 0\n",
      "_________________________________________________________________\n"
     ]
    }
   ],
   "source": [
    "cnn_model.compile(optimizer='adam',\n",
    "                  loss='binary_crossentropy',\n",
    "                  metrics=['accuracy'])\n",
    "\n",
    "cnn_model.summary()"
   ]
  },
  {
   "cell_type": "code",
   "execution_count": 74,
   "metadata": {},
   "outputs": [
    {
     "name": "stdout",
     "output_type": "stream",
     "text": [
      "Epoch 1/15\n",
      "107/107 [==============================] - 22s 189ms/step - loss: 0.7141 - accuracy: 0.5159 - val_loss: 0.6933 - val_accuracy: 0.4567\n",
      "Epoch 2/15\n",
      "107/107 [==============================] - 22s 203ms/step - loss: 0.6860 - accuracy: 0.5529 - val_loss: 0.7014 - val_accuracy: 0.4567\n",
      "Epoch 3/15\n",
      "107/107 [==============================] - 22s 202ms/step - loss: 0.6548 - accuracy: 0.6212 - val_loss: 0.6209 - val_accuracy: 0.6500\n",
      "Epoch 4/15\n",
      "107/107 [==============================] - 19s 176ms/step - loss: 0.5918 - accuracy: 0.6859 - val_loss: 0.5906 - val_accuracy: 0.6767\n",
      "Epoch 5/15\n",
      "107/107 [==============================] - 19s 177ms/step - loss: 0.5078 - accuracy: 0.7441 - val_loss: 0.5808 - val_accuracy: 0.6900\n",
      "Epoch 6/15\n",
      "107/107 [==============================] - 19s 178ms/step - loss: 0.4051 - accuracy: 0.8106 - val_loss: 0.5879 - val_accuracy: 0.7367\n",
      "Epoch 7/15\n",
      "107/107 [==============================] - 19s 180ms/step - loss: 0.3252 - accuracy: 0.8541 - val_loss: 0.6701 - val_accuracy: 0.7033\n",
      "Epoch 8/15\n",
      "107/107 [==============================] - 19s 179ms/step - loss: 0.2289 - accuracy: 0.8994 - val_loss: 0.7511 - val_accuracy: 0.7033\n",
      "Epoch 9/15\n",
      "107/107 [==============================] - 20s 183ms/step - loss: 0.1555 - accuracy: 0.9447 - val_loss: 0.9546 - val_accuracy: 0.6767\n",
      "Epoch 10/15\n",
      "107/107 [==============================] - 20s 187ms/step - loss: 0.0863 - accuracy: 0.9700 - val_loss: 1.2700 - val_accuracy: 0.7100\n",
      "Epoch 11/15\n",
      "107/107 [==============================] - 20s 190ms/step - loss: 0.0791 - accuracy: 0.9724 - val_loss: 1.0880 - val_accuracy: 0.7033\n",
      "Epoch 12/15\n",
      "107/107 [==============================] - 22s 205ms/step - loss: 0.0358 - accuracy: 0.9876 - val_loss: 1.8036 - val_accuracy: 0.6733\n",
      "Epoch 13/15\n",
      "107/107 [==============================] - 21s 196ms/step - loss: 0.0522 - accuracy: 0.9812 - val_loss: 1.5342 - val_accuracy: 0.7233\n",
      "Epoch 14/15\n",
      "107/107 [==============================] - 20s 190ms/step - loss: 0.0145 - accuracy: 0.9982 - val_loss: 1.8554 - val_accuracy: 0.6833\n",
      "Epoch 15/15\n",
      "107/107 [==============================] - 21s 197ms/step - loss: 0.0033 - accuracy: 1.0000 - val_loss: 1.8278 - val_accuracy: 0.7233\n"
     ]
    },
    {
     "data": {
      "text/plain": [
       "<keras.callbacks.History at 0x1d9862b7640>"
      ]
     },
     "execution_count": 74,
     "metadata": {},
     "output_type": "execute_result"
    }
   ],
   "source": [
    "cnn_model.fit(x_train, y_train, epochs=15,\n",
    "              batch_size=16, verbose=1, validation_split=0.15)"
   ]
  },
  {
   "cell_type": "code",
   "execution_count": 75,
   "metadata": {},
   "outputs": [],
   "source": [
    "def evalute_and_cm(model, x_test, y_test):\n",
    "    test_loss, test_accuracy = model.evaluate(x_test, y_test, verbose=1)\n",
    "    print(\"Accuracy on test set is: {}\".format(test_accuracy))\n",
    "\n",
    "    predictions = model.predict(x_test)\n",
    "    predictions = np.round(predictions).astype(int).reshape(x_test.shape[0])\n",
    "\n",
    "    cm = confusion_matrix(y_test, predictions)\n",
    "\n",
    "    plt.figure(figsize=(4, 3))\n",
    "    sns.heatmap(cm, annot=True, fmt='d')\n",
    "    plt.xlabel('Predicted')\n",
    "    plt.ylabel('Truth')\n",
    "    plt.show()"
   ]
  },
  {
   "cell_type": "code",
   "execution_count": 76,
   "metadata": {},
   "outputs": [
    {
     "name": "stdout",
     "output_type": "stream",
     "text": [
      "16/16 [==============================] - 1s 84ms/step - loss: 2.0134 - accuracy: 0.6940\n",
      "Accuracy on test set is: 0.6940000057220459\n",
      "16/16 [==============================] - 1s 76ms/step\n"
     ]
    },
    {
     "data": {
      "image/png": "[encoded data removed]",
      "text/plain": [
       "<Figure size 400x300 with 2 Axes>"
      ]
     },
     "metadata": {},
     "output_type": "display_data"
    }
   ],
   "source": [
    "evalute_and_cm(cnn_model, x_test, y_test)"
   ]
  },
  {
   "cell_type": "code",
   "execution_count": null,
   "metadata": {},
   "outputs": [],
   "source": [
    "# 0.7150 , 135,64,50,151"
   ]
  },
  {
   "cell_type": "markdown",
   "metadata": {},
   "source": [
    "#### Making Predictions 🚀🔮\n"
   ]
  },
  {
   "cell_type": "code",
   "execution_count": 79,
   "metadata": {},
   "outputs": [
    {
     "name": "stdout",
     "output_type": "stream",
     "text": [
      "8/8 [==============================] - 1s 72ms/step\n"
     ]
    }
   ],
   "source": [
    "y_predicted_x_test_df = cnn_model.predict(predication_images)\n",
    "y_predicted_x_test_df = np.round(y_predicted_x_test_df).astype(int).reshape(predication_images.shape[0])"
   ]
  },
  {
   "cell_type": "code",
   "execution_count": 80,
   "metadata": {},
   "outputs": [
    {
     "name": "stdout",
     "output_type": "stream",
     "text": [
      "Visualizing Predictions 📊📈\n"
     ]
    }
   ],
   "source": [
    "sample_submission['label'] = y_predicted_x_test_df\n",
    "\n",
    "sample_submission.head(10)\n",
    "\n",
    "sample_submission.to_csv('submission.csv', index=False)\n",
    "\n",
    "print(\"Visualizing Predictions 📊📈\")"
   ]
  },
  {
   "cell_type": "markdown",
   "metadata": {},
   "source": [
    "#### Implementing Dropout for Regularization 🕳️🔄\n"
   ]
  },
  {
   "cell_type": "code",
   "execution_count": 81,
   "metadata": {},
   "outputs": [],
   "source": [
    "cnn_model_dropout = keras.Sequential([\n",
    "    keras.layers.Conv2D(filters=32, kernel_size=3,\n",
    "                        input_shape=(image_size_pixels, image_size_pixels, 3), activation='relu'),\n",
    "    keras.layers.MaxPooling2D(pool_size=2),\n",
    "    keras.layers.Dropout(0.2),\n",
    "    keras.layers.Conv2D(filters=64, kernel_size=3, activation='relu'),\n",
    "    keras.layers.MaxPooling2D(pool_size=2),\n",
    "    keras.layers.Dropout(0.2),\n",
    "    keras.layers.Conv2D(filters=128, kernel_size=3, activation='relu'),\n",
    "    keras.layers.MaxPooling2D(pool_size=2),\n",
    "    keras.layers.Dropout(0.2),\n",
    "    keras.layers.Flatten(),\n",
    "    keras.layers.Dense(64, activation='relu'),\n",
    "    keras.layers.Dropout(0.2),\n",
    "    keras.layers.Dense(1, activation='sigmoid')\n",
    "])\n",
    "\n",
    "cnn_model_dropout.compile(optimizer='adam',\n",
    "                          loss='binary_crossentropy',\n",
    "                          metrics=['accuracy'])"
   ]
  },
  {
   "cell_type": "code",
   "execution_count": 82,
   "metadata": {},
   "outputs": [
    {
     "name": "stdout",
     "output_type": "stream",
     "text": [
      "Epoch 1/5\n",
      "100/100 [==============================] - 23s 216ms/step - loss: 0.7186 - accuracy: 0.4950 - val_loss: 0.6867 - val_accuracy: 0.5700\n",
      "Epoch 2/5\n",
      "100/100 [==============================] - 23s 225ms/step - loss: 0.6922 - accuracy: 0.5331 - val_loss: 0.6676 - val_accuracy: 0.5800\n",
      "Epoch 3/5\n",
      "100/100 [==============================] - 22s 222ms/step - loss: 0.6752 - accuracy: 0.5625 - val_loss: 0.6435 - val_accuracy: 0.6000\n",
      "Epoch 4/5\n",
      "100/100 [==============================] - 23s 231ms/step - loss: 0.6873 - accuracy: 0.5575 - val_loss: 0.6835 - val_accuracy: 0.5275\n",
      "Epoch 5/5\n",
      "100/100 [==============================] - 22s 221ms/step - loss: 0.6518 - accuracy: 0.6131 - val_loss: 0.6185 - val_accuracy: 0.6325\n"
     ]
    },
    {
     "data": {
      "text/plain": [
       "<keras.callbacks.History at 0x1d99bf9c640>"
      ]
     },
     "execution_count": 82,
     "metadata": {},
     "output_type": "execute_result"
    }
   ],
   "source": [
    "cnn_model_dropout.fit(x_train, y_train, epochs=5,\n",
    "              batch_size=16, verbose=1, validation_split=0.2)"
   ]
  },
  {
   "cell_type": "code",
   "execution_count": 83,
   "metadata": {},
   "outputs": [
    {
     "name": "stdout",
     "output_type": "stream",
     "text": [
      "16/16 [==============================] - 1s 75ms/step - loss: 0.6197 - accuracy: 0.6340\n",
      "Accuracy on test set is: 0.6340000033378601\n",
      "16/16 [==============================] - 1s 75ms/step\n"
     ]
    },
    {
     "data": {
      "image/png": "[encoded data removed]",
      "text/plain": [
       "<Figure size 400x300 with 2 Axes>"
      ]
     },
     "metadata": {},
     "output_type": "display_data"
    }
   ],
   "source": [
    "evalute_and_cm(cnn_model_dropout, x_test, y_test)"
   ]
  },
  {
   "cell_type": "markdown",
   "metadata": {},
   "source": [
    "#### Implementing batch for Regularization 🕳️🔄\n"
   ]
  },
  {
   "cell_type": "code",
   "execution_count": 84,
   "metadata": {},
   "outputs": [],
   "source": [
    "cnn_model_batch = keras.Sequential([\n",
    "    keras.layers.Conv2D(filters=32, kernel_size=3,\n",
    "                        input_shape=(image_size_pixels, image_size_pixels, 3), activation='relu'),\n",
    "    keras.layers.BatchNormalization(),\n",
    "    keras.layers.MaxPooling2D(pool_size=2),\n",
    "    keras.layers.Dropout(0.2),\n",
    "    keras.layers.Conv2D(filters=64, kernel_size=3, activation='relu'),\n",
    "    keras.layers.BatchNormalization(),\n",
    "    keras.layers.MaxPooling2D(pool_size=2),\n",
    "    keras.layers.Dropout(0.2),\n",
    "    keras.layers.Conv2D(filters=128, kernel_size=3, activation='relu'),\n",
    "    keras.layers.BatchNormalization(),\n",
    "    keras.layers.MaxPooling2D(pool_size=2),\n",
    "    keras.layers.Dropout(0.2),\n",
    "    keras.layers.Flatten(),\n",
    "    keras.layers.Dense(64, activation='relu'),\n",
    "    keras.layers.Dropout(0.2),\n",
    "    keras.layers.Dense(1, activation='sigmoid')\n",
    "])\n",
    "\n",
    "cnn_model_batch.compile(optimizer='adam',\n",
    "                        loss='binary_crossentropy',\n",
    "                        metrics=['accuracy'])"
   ]
  },
  {
   "cell_type": "code",
   "execution_count": 85,
   "metadata": {},
   "outputs": [
    {
     "name": "stdout",
     "output_type": "stream",
     "text": [
      "Epoch 1/5\n",
      "100/100 [==============================] - 30s 282ms/step - loss: 1.0775 - accuracy: 0.5512 - val_loss: 9.7235 - val_accuracy: 0.5100\n",
      "Epoch 2/5\n",
      "100/100 [==============================] - 28s 285ms/step - loss: 0.6854 - accuracy: 0.5650 - val_loss: 1.5772 - val_accuracy: 0.5325\n",
      "Epoch 3/5\n",
      "100/100 [==============================] - 29s 290ms/step - loss: 0.6955 - accuracy: 0.5412 - val_loss: 4.6115 - val_accuracy: 0.5125\n",
      "Epoch 4/5\n",
      "100/100 [==============================] - 29s 293ms/step - loss: 0.7288 - accuracy: 0.5294 - val_loss: 0.9702 - val_accuracy: 0.5525\n",
      "Epoch 5/5\n",
      "100/100 [==============================] - 29s 293ms/step - loss: 0.7062 - accuracy: 0.5113 - val_loss: 0.9910 - val_accuracy: 0.5950\n"
     ]
    },
    {
     "data": {
      "text/plain": [
       "<keras.callbacks.History at 0x1d99c1cdae0>"
      ]
     },
     "execution_count": 85,
     "metadata": {},
     "output_type": "execute_result"
    }
   ],
   "source": [
    "cnn_model_batch.fit(x_train, y_train, epochs=5,\n",
    "              batch_size=16, verbose=1, validation_split=0.2)"
   ]
  },
  {
   "cell_type": "code",
   "execution_count": 86,
   "metadata": {},
   "outputs": [
    {
     "name": "stdout",
     "output_type": "stream",
     "text": [
      "16/16 [==============================] - 2s 112ms/step - loss: 1.1959 - accuracy: 0.5240\n",
      "Accuracy on test set is: 0.5239999890327454\n",
      "16/16 [==============================] - 2s 119ms/step\n"
     ]
    },
    {
     "data": {
      "image/png": "[encoded data removed]",
      "text/plain": [
       "<Figure size 400x300 with 2 Axes>"
      ]
     },
     "metadata": {},
     "output_type": "display_data"
    }
   ],
   "source": [
    "evalute_and_cm(cnn_model_batch, x_test, y_test)"
   ]
  },
  {
   "cell_type": "markdown",
   "metadata": {},
   "source": [
    "#### Data Augmentation for Improved Generalization 🔄📸\n"
   ]
  },
  {
   "cell_type": "code",
   "execution_count": 87,
   "metadata": {},
   "outputs": [
    {
     "name": "stdout",
     "output_type": "stream",
     "text": [
      "Data Augmentation for Improved Generalization 🔄📸\n"
     ]
    }
   ],
   "source": [
    "print(\"Data Augmentation for Improved Generalization 🔄📸\")"
   ]
  },
  {
   "cell_type": "markdown",
   "metadata": {},
   "source": [
    "### Conclusion 🎉🏁\n"
   ]
  },
  {
   "cell_type": "markdown",
   "metadata": {},
   "source": [
    "#### **Score: 0.7300**\n"
   ]
  }
 ],
 "metadata": {
  "kernelspec": {
   "display_name": "Python 3",
   "language": "python",
   "name": "python3"
  },
  "language_info": {
   "codemirror_mode": {
    "name": "ipython",
    "version": 3
   },
   "file_extension": ".py",
   "mimetype": "text/x-python",
   "name": "python",
   "nbconvert_exporter": "python",
   "pygments_lexer": "ipython3",
   "version": "3.10.6"
  }
 },
 "nbformat": 4,
 "nbformat_minor": 2
}
