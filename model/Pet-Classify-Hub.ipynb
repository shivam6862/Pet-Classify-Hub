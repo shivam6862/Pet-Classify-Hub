{
 "cells": [
  {
   "cell_type": "markdown",
   "metadata": {},
   "source": [
    "<h2 style=\"color:#000000; border:2px solid #6D7E86; text-align:center; border-radius:8px; background-color:rgb(199,239,0,0.5);text-transform:uppercase;padding:0.7rem\">🚀Upvote if you find it useful!</h2>\n"
   ]
  },
  {
   "cell_type": "markdown",
   "metadata": {},
   "source": [
    "## Pet Classify Hub\n"
   ]
  },
  {
   "cell_type": "markdown",
   "metadata": {},
   "source": [
    "### Importing Essential Packages 📦🔍\n"
   ]
  },
  {
   "cell_type": "code",
   "execution_count": null,
   "metadata": {},
   "outputs": [],
   "source": [
    "import numpy as np\n",
    "import pandas as pd\n",
    "import matplotlib.pyplot as plt\n",
    "import seaborn as sns\n",
    "import tensorflow as tf\n",
    "from tensorflow import keras\n",
    "from sklearn.model_selection import train_test_split\n",
    "from sklearn.metrics import confusion_matrix\n",
    "import os\n",
    "import cv2"
   ]
  },
  {
   "cell_type": "markdown",
   "metadata": {},
   "source": [
    "### Importing Images 📦📸\n"
   ]
  },
  {
   "cell_type": "code",
   "execution_count": null,
   "metadata": {},
   "outputs": [],
   "source": [
    "folder_path_train = \"..\\data\\dogs-vs-cats\\\\train\"\n",
    "current_directory = os.getcwd()\n",
    "full_path_train = os.path.join(current_directory, folder_path_train)\n",
    "full_path_train = os.path.normpath(full_path_train)\n",
    "print(full_path_train)\n",
    "\n",
    "folder_path_test = \"..\\data\\dogs-vs-cats\\\\test\"\n",
    "current_directory = os.getcwd()\n",
    "full_path_test = os.path.join(current_directory, folder_path_test)\n",
    "full_path_test = os.path.normpath(full_path_test)\n",
    "print(full_path_test)"
   ]
  },
  {
   "cell_type": "markdown",
   "metadata": {},
   "source": [
    "#### Importing all images\n"
   ]
  },
  {
   "cell_type": "code",
   "execution_count": null,
   "metadata": {},
   "outputs": [],
   "source": [
    "train_images_df = []\n",
    "train_labels_df = []\n",
    "# plt.figure(figsize=(16, 9))\n",
    "for filename in os.listdir(full_path_train):\n",
    "    if filename.endswith(\".jpg\"):\n",
    "        image_path = os.path.join(full_path_train, filename)\n",
    "        if len(train_images_df) % 100 == 0:\n",
    "            print(len(train_images_df))\n",
    "        img = cv2.imread(image_path)\n",
    "        # plt.subplot(5, 6, len(images) + 1)\n",
    "        # plt.imshow(img)\n",
    "        if len(train_images_df) == 1000:\n",
    "            break\n",
    "        train_images_df.append(img)\n",
    "        train_labels_df.append(filename.split(\".\")[0])\n",
    "print(\"Shape of images array:\", len(train_images_df))\n",
    "print(\"Shape of labels array:\", train_labels_df)\n",
    "# plt.imshow(img)"
   ]
  },
  {
   "cell_type": "markdown",
   "metadata": {},
   "source": [
    "#### Imported only 1000 images for train\n"
   ]
  },
  {
   "cell_type": "code",
   "execution_count": null,
   "metadata": {},
   "outputs": [],
   "source": [
    "train_images_df = []\n",
    "train_labels_df = []\n",
    "\n",
    "num_dogs = 0\n",
    "num_cats = 0\n",
    "target_images = 2000\n",
    "\n",
    "for filename in os.listdir(full_path_train):\n",
    "    if filename.endswith(\".jpg\"):\n",
    "        image_path = os.path.join(full_path_train, filename)\n",
    "        img = cv2.imread(image_path)\n",
    "\n",
    "        label = filename.split(\".\")[0]\n",
    "        if label == \"cat\" and num_cats < target_images / 2:\n",
    "            train_images_df.append(img)\n",
    "            train_labels_df.append(label)\n",
    "            num_cats += 1\n",
    "        elif label == \"dog\" and num_dogs < target_images / 2:\n",
    "            train_images_df.append(img)\n",
    "            train_labels_df.append(label)\n",
    "            num_dogs += 1\n",
    "\n",
    "        # Break if we have enough images\n",
    "        if num_cats + num_dogs == target_images:\n",
    "            break\n",
    "\n",
    "print(\"Number of cat images:\", num_cats)\n",
    "print(\"Number of dog images:\", num_dogs)\n",
    "print(\"Shape of images array:\", len(train_images_df))\n",
    "print(\"Shape of labels array:\", len(train_labels_df))"
   ]
  },
  {
   "cell_type": "code",
   "execution_count": null,
   "metadata": {},
   "outputs": [],
   "source": [
    "print(train_labels_df[0:10])\n",
    "print(train_labels_df[990:])"
   ]
  },
  {
   "cell_type": "code",
   "execution_count": null,
   "metadata": {},
   "outputs": [],
   "source": [
    "# plt.figure(figsize=(40, 100))\n",
    "# for i, img in enumerate(train_images):\n",
    "#     plt.subplot(50, 20, i + 1)\n",
    "#     plt.imshow(cv2.cvtColor(img, cv2.COLOR_BGR2RGB))\n",
    "#     plt.axis('off')\n",
    "\n",
    "# plt.show()"
   ]
  },
  {
   "cell_type": "markdown",
   "metadata": {},
   "source": [
    "#### Imported only 250 images for test\n"
   ]
  },
  {
   "cell_type": "code",
   "execution_count": null,
   "metadata": {},
   "outputs": [],
   "source": [
    "predication_images = []\n",
    "for filename in os.listdir(full_path_test):\n",
    "    if filename.endswith(\".jpg\"):\n",
    "        image_path = os.path.join(full_path_test, filename)\n",
    "        if len(predication_images) % 100 == 0:\n",
    "            print(len(predication_images))\n",
    "        img = cv2.imread(image_path)\n",
    "        if len(predication_images) == 250:\n",
    "            break\n",
    "        predication_images.append(img)\n",
    "print(\"Shape of images array:\", len(predication_images))"
   ]
  },
  {
   "cell_type": "code",
   "execution_count": null,
   "metadata": {},
   "outputs": [],
   "source": [
    "# plt.figure(figsize=(25, 50))\n",
    "# for i, img in enumerate(predication_images):\n",
    "#     plt.subplot(25, 10, i + 1)\n",
    "#     plt.imshow(cv2.cvtColor(img, cv2.COLOR_BGR2RGB))\n",
    "#     plt.axis('off')\n",
    "\n",
    "# plt.show()"
   ]
  },
  {
   "cell_type": "markdown",
   "metadata": {},
   "source": [
    "#### sample Submission pattern\n"
   ]
  },
  {
   "cell_type": "code",
   "execution_count": null,
   "metadata": {},
   "outputs": [],
   "source": [
    "sample_submission = pd.read_csv(\n",
    "    '../data/dogs-vs-cats/sampleSubmission.csv').head(250)\n",
    "sample_submission"
   ]
  },
  {
   "cell_type": "markdown",
   "metadata": {},
   "source": [
    "### Building and Training Models 🏗️🤖\n"
   ]
  },
  {
   "cell_type": "code",
   "execution_count": null,
   "metadata": {},
   "outputs": [],
   "source": [
    "train_labels_df = np.array(train_labels_df)\n",
    "train_labels_df[train_labels_df == 'cat'] = 0\n",
    "train_labels_df[train_labels_df == 'dog'] = 1\n",
    "train_labels_df = train_labels_df.astype(np.int32)\n",
    "print(train_labels_df[0:10])\n",
    "print(train_labels_df[990:])"
   ]
  },
  {
   "cell_type": "code",
   "execution_count": null,
   "metadata": {},
   "outputs": [],
   "source": [
    "train_images_df = [cv2.resize(img, (256, 256)) for img in train_images_df]\n",
    "predication_images = [cv2.resize(img, (256, 256))\n",
    "                      for img in predication_images]"
   ]
  },
  {
   "cell_type": "code",
   "execution_count": null,
   "metadata": {},
   "outputs": [],
   "source": [
    "# normalize images\n",
    "train_images_df = np.array(train_images_df)\n",
    "train_images_df = train_images_df / 255.0\n",
    "predication_images = np.array(predication_images)\n",
    "predication_images = predication_images / 255.0"
   ]
  },
  {
   "cell_type": "code",
   "execution_count": null,
   "metadata": {},
   "outputs": [],
   "source": [
    "train_images_df.shape"
   ]
  },
  {
   "cell_type": "code",
   "execution_count": null,
   "metadata": {},
   "outputs": [],
   "source": [
    "x_train, x_test, y_train, y_test = train_test_split(\n",
    "    train_images_df, train_labels_df, test_size=0.2, random_state=42)"
   ]
  },
  {
   "cell_type": "code",
   "execution_count": null,
   "metadata": {},
   "outputs": [],
   "source": [
    "x_test.shape"
   ]
  },
  {
   "cell_type": "code",
   "execution_count": null,
   "metadata": {},
   "outputs": [],
   "source": [
    "x_train.shape"
   ]
  },
  {
   "cell_type": "markdown",
   "metadata": {},
   "source": [
    "#### Convolutional Neural Network (CNN) 🌐🔍\n"
   ]
  },
  {
   "cell_type": "code",
   "execution_count": null,
   "metadata": {},
   "outputs": [],
   "source": [
    "cnn_model = keras.Sequential([\n",
    "    keras.layers.Conv2D(filters=32, kernel_size=3,\n",
    "                        input_shape=(256, 256, 3), activation='relu'),\n",
    "    keras.layers.MaxPooling2D(pool_size=2),\n",
    "    keras.layers.Conv2D(filters=64, kernel_size=3, activation='relu'),\n",
    "    keras.layers.MaxPooling2D(pool_size=2),\n",
    "    keras.layers.Conv2D(filters=128, kernel_size=3, activation='relu'),\n",
    "    keras.layers.MaxPooling2D(pool_size=2),\n",
    "    keras.layers.Flatten(),\n",
    "    keras.layers.Dense(64, activation='relu'),\n",
    "    keras.layers.Dense(1, activation='sigmoid')\n",
    "])"
   ]
  },
  {
   "cell_type": "code",
   "execution_count": null,
   "metadata": {},
   "outputs": [],
   "source": [
    "cnn_model.compile(optimizer='adam',\n",
    "                  loss='binary_crossentropy',\n",
    "                  metrics=['accuracy'])\n",
    "\n",
    "cnn_model.summary()"
   ]
  },
  {
   "cell_type": "code",
   "execution_count": null,
   "metadata": {},
   "outputs": [],
   "source": [
    "cnn_model.fit(x_train, y_train, epochs=5,\n",
    "              batch_size=16, verbose=1, validation_split=0.15)"
   ]
  },
  {
   "cell_type": "code",
   "execution_count": null,
   "metadata": {},
   "outputs": [],
   "source": [
    "test_loss, test_accuracy = cnn_model.evaluate(x_test, y_test, verbose=1)\n",
    "print(\"Accuracy on test set is: {}\".format(test_accuracy))"
   ]
  },
  {
   "cell_type": "code",
   "execution_count": null,
   "metadata": {},
   "outputs": [],
   "source": [
    "cnn_predictions = cnn_model.predict(x_test)"
   ]
  },
  {
   "cell_type": "code",
   "execution_count": null,
   "metadata": {},
   "outputs": [],
   "source": [
    "cnn_predictions = np.round(cnn_predictions).astype(int).reshape(x_test.shape[0])\n",
    "\n",
    "cnn_predictions[:10]"
   ]
  },
  {
   "cell_type": "code",
   "execution_count": null,
   "metadata": {},
   "outputs": [],
   "source": [
    "cm = confusion_matrix(y_test, cnn_predictions)"
   ]
  },
  {
   "cell_type": "code",
   "execution_count": null,
   "metadata": {},
   "outputs": [],
   "source": [
    "plt.figure(figsize=(4, 3))\n",
    "sns.heatmap(cm, annot=True, fmt='d')\n",
    "plt.xlabel('Predicted')\n",
    "plt.ylabel('Truth')"
   ]
  },
  {
   "cell_type": "markdown",
   "metadata": {},
   "source": [
    "#### Making Predictions 🚀🔮\n"
   ]
  },
  {
   "cell_type": "code",
   "execution_count": null,
   "metadata": {},
   "outputs": [],
   "source": [
    "y_predicted_x_test_df = cnn_model.predict(predication_images)\n",
    "y_predicted_x_test_df = np.round(y_predicted_x_test_df).astype(int).reshape(predication_images.shape[0])"
   ]
  },
  {
   "cell_type": "code",
   "execution_count": null,
   "metadata": {},
   "outputs": [],
   "source": [
    "sample_submission['label'] = y_predicted_x_test_df\n",
    "\n",
    "sample_submission.head(10)\n",
    "\n",
    "sample_submission.to_csv('submission.csv', index=False)\n",
    "\n",
    "print(\"Visualizing Predictions 📊📈\")"
   ]
  },
  {
   "cell_type": "markdown",
   "metadata": {},
   "source": [
    "#### Implementing Dropout for Regularization 🕳️🔄\n"
   ]
  },
  {
   "cell_type": "code",
   "execution_count": null,
   "metadata": {},
   "outputs": [],
   "source": [
    "print(\"Implementing Dropout for Regularization 🕳️🔄\")"
   ]
  },
  {
   "cell_type": "markdown",
   "metadata": {},
   "source": [
    "#### Data Augmentation for Improved Generalization 🔄📸\n"
   ]
  },
  {
   "cell_type": "code",
   "execution_count": null,
   "metadata": {},
   "outputs": [],
   "source": [
    "print(\"Data Augmentation for Improved Generalization 🔄📸\")"
   ]
  },
  {
   "cell_type": "markdown",
   "metadata": {},
   "source": [
    "### Conclusion 🎉🏁\n"
   ]
  },
  {
   "cell_type": "markdown",
   "metadata": {},
   "source": [
    "#### **Score: **\n"
   ]
  }
 ],
 "metadata": {
  "kernelspec": {
   "display_name": "Python 3",
   "language": "python",
   "name": "python3"
  },
  "language_info": {
   "codemirror_mode": {
    "name": "ipython",
    "version": 3
   },
   "file_extension": ".py",
   "mimetype": "text/x-python",
   "name": "python",
   "nbconvert_exporter": "python",
   "pygments_lexer": "ipython3",
   "version": "3.10.6"
  }
 },
 "nbformat": 4,
 "nbformat_minor": 2
}
